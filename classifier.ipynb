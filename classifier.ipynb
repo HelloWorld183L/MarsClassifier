{
 "cells": [
  {
   "cell_type": "markdown",
   "metadata": {},
   "source": [
    "# Mars orbital image (HiRISE) classifier\n",
    "\n",
    "[![DOI](https://zenodo.org/badge/DOI/10.5281/zenodo.2538136.svg)](https://doi.org/10.5281/zenodo.2538136)\n",
    "Dataset by Gary Doran; Steven Lu; Lukas Mandrake; Kiri Wagstaff\n",
    "\n",
    "Notebook by Leon Harper\n",
    "\n",
    "https://data.nasa.gov/Space-Science/Mars-orbital-image-HiRISE-labeled-data-set-version/egmv-36wq"
   ]
  },
  {
   "cell_type": "markdown",
   "metadata": {},
   "source": [
    "## Context\n",
    "> This data set contains a total of 73,031 landmarks. 10,433 landmarks were detected and extracted from 180 HiRISE browse images, and 62,598 landmarks were augmented from 10,433 original landmarks. For each original landmark, we cropped a square bounding box that includes the full extent of the landmark plus a 30-pixel margin to left, right, top and bottom. Each cropped landmark was resized to 227x227 pixels, and then was augmented to generate 6 additional landmarks using the following methods:\n",
    "\n",
    "> 1. 90 degrees clockwise rotation \n",
    "2. 180 degrees clockwise rotation\n",
    "3. 270 degrees clockwise rotation\n",
    "4. Horizontal flip\n",
    "5. Vertical flip\n",
    "6. Random brightness adjustment\n",
    "\n",
    "\n",
    "Contents:\n",
    "- map-proj-v3/: Directory containing individual cropped landmark images\n",
    "- labels-map-proj-v3.txt: Class labels (ids) for each landmark image\n",
    "- landmarks_map-proj-v3_classmap.csv: Dictionary that maps class ids to semantic names\n",
    "\n"
   ]
  },
  {
   "cell_type": "markdown",
   "metadata": {},
   "source": [
    "### Class discussion\n",
    "> We give a discussion of the various landmarks that make up our classes. \n",
    "Bright dune and dark dune are two sand dune classes found on Mars. Dark dunes are completely defrosted, whereas bright dunes are not. Bright dunes are generally bright due to overlying frost and can exhibit black spots where parts of the dune are defrosting.\n",
    "\n",
    "> The crater class consists of crater images in which the diameter of the crater is greater than or equal to 1/5 the width of the image and the circular rim is visible for at least half the crater's circumference.\n",
    "\n",
    "> The slope streak class consists of images of dark flow-like features on slopes. These features are believed to be formed by a dry process in which overlying (bright) dust slides down a slope and reveals a darker sub-surface.\n",
    "\n",
    "> Impact ejecta refers to material that is blasted out from the impact of a meteorite or the eruption of a volcano. We also include cases in which the impact cleared away overlying dust, exposing the underlying surface. In some cases, the associated crater may be too small to see. Impact ejecta can also include lava that spilled out from the impact (blobby (\"lobate\") instead of blast-like), more like an eruption (triggered by the impact). Impact ejecta can be isolated, or they can form in clusters when the impactor breaks up into multiple fragments.\n",
    "\n",
    "> Spiders and Swiss cheese are phenomena that occur in the south polar region of Mars. Spiders have a central pit with radial troughs, and they are believed to form as a result of sublimation of carbon dioxide ice. This process can produce mineral deposits on top, which look like dark or light dust that highlights cracks in the CO2 ice.  Spiders can resemble impact ejecta due to their radial troughs, but impact ejecta tends to have straight radial jets that fade as they get farther from the center.  The spider class also includes fan-like features that form when a geyser erupts through the CO2 layer and the material is blown by the wind away from the cracks. Fans are typically unidirectional (following the wind direction), whereas impact ejecta often extends in multiple directions. Swiss cheese is a terrain type that consists of pits that are formed when the sun heats the ice making it sublimate (change solid to gas).\n",
    "\n",
    "> Other is a catch-all class that contains images that fit none of the defined classes of interest. This class makes up the majority of our data set."
   ]
  },
  {
   "cell_type": "markdown",
   "metadata": {},
   "source": [
    "Augmented images are designated with words like \"fv\" or \"brt\". This notebook uses a simple CNN to classify landmark images that were detected and extracted from HiRISE browse images. The original dataset was 10,815 landmarks that were then cropped to a bounding box with a 30 pixel margin on all sides. Each landmark is resized to 227x227 pixels which saves preprocessing time."
   ]
  },
  {
   "cell_type": "markdown",
   "metadata": {},
   "source": [
    "# Setup"
   ]
  },
  {
   "cell_type": "code",
   "execution_count": 23,
   "metadata": {},
   "outputs": [],
   "source": [
    "import numpy as np\n",
    "import pandas as pd\n",
    "import matplotlib.pyplot as plt\n",
    "import seaborn as sns\n",
    "from tensorflow import keras\n",
    "from tensorflow.keras import layers, optimizers as op\n",
    "import os\n",
    "from skimage import io\n",
    "from sklearn.model_selection import train_test_split\n",
    "from sklearn.metrics import confusion_matrix, ConfusionMatrixDisplay, f1_score\n",
    "import tensorflow as tf\n",
    "import visualkeras\n",
    "\n",
    "SEED = 42\n",
    "TEST_PROP = 0.25\n",
    "IMAGE_SHAPE = (227, 227)\n",
    "BASE_PATH = \"hirise-map-proj-v3_2/\"\n",
    "IMAGES_PATH = BASE_PATH + \"map-proj-v3_2/\"\n",
    "BATCH_SIZE = 32\n",
    "RANDOM_STATE = 42"
   ]
  },
  {
   "cell_type": "code",
   "execution_count": null,
   "metadata": {},
   "outputs": [],
   "source": [
    "devices = tf.config.list_physical_devices('GPU')\n",
    "if len(devices) == 0: print(\"Please install the latest TensorFlow GPU release.\")\n",
    "devices"
   ]
  },
  {
   "cell_type": "code",
   "execution_count": 25,
   "metadata": {},
   "outputs": [
    {
     "name": "stdout",
     "output_type": "stream",
     "text": [
      "Mon Jul 31 12:53:09 2023       \r\n",
      "+---------------------------------------------------------------------------------------+\r\n",
      "| NVIDIA-SMI 535.54.03              Driver Version: 535.54.03    CUDA Version: 12.2     |\r\n",
      "|-----------------------------------------+----------------------+----------------------+\r\n",
      "| GPU  Name                 Persistence-M | Bus-Id        Disp.A | Volatile Uncorr. ECC |\r\n",
      "| Fan  Temp   Perf          Pwr:Usage/Cap |         Memory-Usage | GPU-Util  Compute M. |\r\n",
      "|                                         |                      |               MIG M. |\r\n",
      "|=========================================+======================+======================|\r\n",
      "|   0  NVIDIA GeForce GTX 1070        Off | 00000000:01:00.0  On |                  N/A |\r\n",
      "| 33%   56C    P2              50W / 185W |   7766MiB /  8192MiB |      4%      Default |\r\n",
      "|                                         |                      |                  N/A |\r\n",
      "+-----------------------------------------+----------------------+----------------------+\r\n",
      "                                                                                         \r\n",
      "+---------------------------------------------------------------------------------------+\r\n",
      "| Processes:                                                                            |\r\n",
      "|  GPU   GI   CI        PID   Type   Process name                            GPU Memory |\r\n",
      "|        ID   ID                                                             Usage      |\r\n",
      "|=======================================================================================|\r\n",
      "|    0   N/A  N/A       685      G   /usr/lib/Xorg                               245MiB |\r\n",
      "|    0   N/A  N/A      1179      G   xfwm4                                         3MiB |\r\n",
      "|    0   N/A  N/A      1785      G   ...62144 --disable-features=ChromeLabs      145MiB |\r\n",
      "|    0   N/A  N/A      2475      G   alacritty                                     9MiB |\r\n",
      "|    0   N/A  N/A      7327      C   ...e/leonh/.conda/envs/Mars/bin/python     7314MiB |\r\n",
      "+---------------------------------------------------------------------------------------+\r\n"
     ]
    }
   ],
   "source": [
    "!nvidia-smi"
   ]
  },
  {
   "cell_type": "markdown",
   "metadata": {},
   "source": [
    "This code detects if a GPU is present and it displays details about the GPU such as video memory. Please use a GPU to speed up training."
   ]
  },
  {
   "cell_type": "markdown",
   "metadata": {},
   "source": [
    "## Dataset creation"
   ]
  },
  {
   "cell_type": "code",
   "execution_count": 26,
   "metadata": {},
   "outputs": [
    {
     "data": {
      "text/html": [
       "<div>\n",
       "<style scoped>\n",
       "    .dataframe tbody tr th:only-of-type {\n",
       "        vertical-align: middle;\n",
       "    }\n",
       "\n",
       "    .dataframe tbody tr th {\n",
       "        vertical-align: top;\n",
       "    }\n",
       "\n",
       "    .dataframe thead th {\n",
       "        text-align: right;\n",
       "    }\n",
       "</style>\n",
       "<table border=\"1\" class=\"dataframe\">\n",
       "  <thead>\n",
       "    <tr style=\"text-align: right;\">\n",
       "      <th></th>\n",
       "      <th>name</th>\n",
       "      <th>class</th>\n",
       "      <th>split</th>\n",
       "    </tr>\n",
       "  </thead>\n",
       "  <tbody>\n",
       "    <tr>\n",
       "      <th>0</th>\n",
       "      <td>ESP_013049_0950_RED-0067.jpg</td>\n",
       "      <td>7</td>\n",
       "      <td>train</td>\n",
       "    </tr>\n",
       "    <tr>\n",
       "      <th>1</th>\n",
       "      <td>ESP_013049_0950_RED-0067-fv.jpg</td>\n",
       "      <td>7</td>\n",
       "      <td>train</td>\n",
       "    </tr>\n",
       "    <tr>\n",
       "      <th>2</th>\n",
       "      <td>ESP_013049_0950_RED-0067-brt.jpg</td>\n",
       "      <td>7</td>\n",
       "      <td>train</td>\n",
       "    </tr>\n",
       "    <tr>\n",
       "      <th>3</th>\n",
       "      <td>ESP_013049_0950_RED-0067-r90.jpg</td>\n",
       "      <td>7</td>\n",
       "      <td>train</td>\n",
       "    </tr>\n",
       "    <tr>\n",
       "      <th>4</th>\n",
       "      <td>ESP_013049_0950_RED-0067-r180.jpg</td>\n",
       "      <td>7</td>\n",
       "      <td>train</td>\n",
       "    </tr>\n",
       "    <tr>\n",
       "      <th>...</th>\n",
       "      <td>...</td>\n",
       "      <td>...</td>\n",
       "      <td>...</td>\n",
       "    </tr>\n",
       "    <tr>\n",
       "      <th>67805</th>\n",
       "      <td>ESP_018707_2205_RED-0041.jpg</td>\n",
       "      <td>0</td>\n",
       "      <td>test</td>\n",
       "    </tr>\n",
       "    <tr>\n",
       "      <th>67806</th>\n",
       "      <td>ESP_018707_2205_RED-0062.jpg</td>\n",
       "      <td>0</td>\n",
       "      <td>test</td>\n",
       "    </tr>\n",
       "    <tr>\n",
       "      <th>67807</th>\n",
       "      <td>ESP_018707_2205_RED-0105.jpg</td>\n",
       "      <td>0</td>\n",
       "      <td>test</td>\n",
       "    </tr>\n",
       "    <tr>\n",
       "      <th>67808</th>\n",
       "      <td>ESP_018707_2205_RED-0058.jpg</td>\n",
       "      <td>0</td>\n",
       "      <td>test</td>\n",
       "    </tr>\n",
       "    <tr>\n",
       "      <th>67809</th>\n",
       "      <td>ESP_018707_2205_RED-0051.jpg</td>\n",
       "      <td>0</td>\n",
       "      <td>test</td>\n",
       "    </tr>\n",
       "  </tbody>\n",
       "</table>\n",
       "<p>67810 rows × 3 columns</p>\n",
       "</div>"
      ],
      "text/plain": [
       "                                    name class  split\n",
       "0           ESP_013049_0950_RED-0067.jpg     7  train\n",
       "1        ESP_013049_0950_RED-0067-fv.jpg     7  train\n",
       "2       ESP_013049_0950_RED-0067-brt.jpg     7  train\n",
       "3       ESP_013049_0950_RED-0067-r90.jpg     7  train\n",
       "4      ESP_013049_0950_RED-0067-r180.jpg     7  train\n",
       "...                                  ...   ...    ...\n",
       "67805       ESP_018707_2205_RED-0041.jpg     0   test\n",
       "67806       ESP_018707_2205_RED-0062.jpg     0   test\n",
       "67807       ESP_018707_2205_RED-0105.jpg     0   test\n",
       "67808       ESP_018707_2205_RED-0058.jpg     0   test\n",
       "67809       ESP_018707_2205_RED-0051.jpg     0   test\n",
       "\n",
       "[67810 rows x 3 columns]"
      ]
     },
     "execution_count": 26,
     "metadata": {},
     "output_type": "execute_result"
    }
   ],
   "source": [
    "labels_df = pd.read_csv(BASE_PATH + \"labels-map-proj_v3_2_train_val_test.csv\", sep=\" \")\n",
    "labels_df['class'] = labels_df['class'].astype('string')\n",
    "labels_df"
   ]
  },
  {
   "cell_type": "code",
   "execution_count": 27,
   "metadata": {},
   "outputs": [
    {
     "data": {
      "text/html": [
       "<div>\n",
       "<style scoped>\n",
       "    .dataframe tbody tr th:only-of-type {\n",
       "        vertical-align: middle;\n",
       "    }\n",
       "\n",
       "    .dataframe tbody tr th {\n",
       "        vertical-align: top;\n",
       "    }\n",
       "\n",
       "    .dataframe thead th {\n",
       "        text-align: right;\n",
       "    }\n",
       "</style>\n",
       "<table border=\"1\" class=\"dataframe\">\n",
       "  <thead>\n",
       "    <tr style=\"text-align: right;\">\n",
       "      <th></th>\n",
       "      <th>name</th>\n",
       "      <th>class</th>\n",
       "      <th>split</th>\n",
       "    </tr>\n",
       "  </thead>\n",
       "  <tbody>\n",
       "    <tr>\n",
       "      <th>2044</th>\n",
       "      <td>ESP_013049_0950_RED-0067.jpg</td>\n",
       "      <td>7</td>\n",
       "      <td>train</td>\n",
       "    </tr>\n",
       "    <tr>\n",
       "      <th>2045</th>\n",
       "      <td>ESP_013049_0950_RED-0067-fv.jpg</td>\n",
       "      <td>7</td>\n",
       "      <td>train</td>\n",
       "    </tr>\n",
       "    <tr>\n",
       "      <th>2046</th>\n",
       "      <td>ESP_013049_0950_RED-0067-brt.jpg</td>\n",
       "      <td>7</td>\n",
       "      <td>train</td>\n",
       "    </tr>\n",
       "    <tr>\n",
       "      <th>2047</th>\n",
       "      <td>ESP_013049_0950_RED-0067-r90.jpg</td>\n",
       "      <td>7</td>\n",
       "      <td>train</td>\n",
       "    </tr>\n",
       "    <tr>\n",
       "      <th>2048</th>\n",
       "      <td>ESP_013049_0950_RED-0067-r180.jpg</td>\n",
       "      <td>7</td>\n",
       "      <td>train</td>\n",
       "    </tr>\n",
       "    <tr>\n",
       "      <th>...</th>\n",
       "      <td>...</td>\n",
       "      <td>...</td>\n",
       "      <td>...</td>\n",
       "    </tr>\n",
       "    <tr>\n",
       "      <th>52621</th>\n",
       "      <td>ESP_012652_0950_RED-0003-brt.jpg</td>\n",
       "      <td>6</td>\n",
       "      <td>val</td>\n",
       "    </tr>\n",
       "    <tr>\n",
       "      <th>52622</th>\n",
       "      <td>ESP_012652_0950_RED-0003-r90.jpg</td>\n",
       "      <td>6</td>\n",
       "      <td>val</td>\n",
       "    </tr>\n",
       "    <tr>\n",
       "      <th>52623</th>\n",
       "      <td>ESP_012652_0950_RED-0003-r180.jpg</td>\n",
       "      <td>6</td>\n",
       "      <td>val</td>\n",
       "    </tr>\n",
       "    <tr>\n",
       "      <th>52624</th>\n",
       "      <td>ESP_012652_0950_RED-0003-r270.jpg</td>\n",
       "      <td>6</td>\n",
       "      <td>val</td>\n",
       "    </tr>\n",
       "    <tr>\n",
       "      <th>52625</th>\n",
       "      <td>ESP_012652_0950_RED-0003-fh.jpg</td>\n",
       "      <td>6</td>\n",
       "      <td>val</td>\n",
       "    </tr>\n",
       "  </tbody>\n",
       "</table>\n",
       "<p>2863 rows × 3 columns</p>\n",
       "</div>"
      ],
      "text/plain": [
       "                                    name class  split\n",
       "2044        ESP_013049_0950_RED-0067.jpg     7  train\n",
       "2045     ESP_013049_0950_RED-0067-fv.jpg     7  train\n",
       "2046    ESP_013049_0950_RED-0067-brt.jpg     7  train\n",
       "2047    ESP_013049_0950_RED-0067-r90.jpg     7  train\n",
       "2048   ESP_013049_0950_RED-0067-r180.jpg     7  train\n",
       "...                                  ...   ...    ...\n",
       "52621   ESP_012652_0950_RED-0003-brt.jpg     6    val\n",
       "52622   ESP_012652_0950_RED-0003-r90.jpg     6    val\n",
       "52623  ESP_012652_0950_RED-0003-r180.jpg     6    val\n",
       "52624  ESP_012652_0950_RED-0003-r270.jpg     6    val\n",
       "52625    ESP_012652_0950_RED-0003-fh.jpg     6    val\n",
       "\n",
       "[2863 rows x 3 columns]"
      ]
     },
     "execution_count": 27,
     "metadata": {},
     "output_type": "execute_result"
    }
   ],
   "source": [
    "labels_df[labels_df.duplicated()]"
   ]
  },
  {
   "cell_type": "code",
   "execution_count": 28,
   "metadata": {},
   "outputs": [
    {
     "data": {
      "text/html": [
       "<div>\n",
       "<style scoped>\n",
       "    .dataframe tbody tr th:only-of-type {\n",
       "        vertical-align: middle;\n",
       "    }\n",
       "\n",
       "    .dataframe tbody tr th {\n",
       "        vertical-align: top;\n",
       "    }\n",
       "\n",
       "    .dataframe thead th {\n",
       "        text-align: right;\n",
       "    }\n",
       "</style>\n",
       "<table border=\"1\" class=\"dataframe\">\n",
       "  <thead>\n",
       "    <tr style=\"text-align: right;\">\n",
       "      <th></th>\n",
       "      <th>name</th>\n",
       "      <th>class</th>\n",
       "      <th>split</th>\n",
       "    </tr>\n",
       "  </thead>\n",
       "  <tbody>\n",
       "    <tr>\n",
       "      <th>0</th>\n",
       "      <td>ESP_013049_0950_RED-0067.jpg</td>\n",
       "      <td>7</td>\n",
       "      <td>train</td>\n",
       "    </tr>\n",
       "    <tr>\n",
       "      <th>1</th>\n",
       "      <td>ESP_013049_0950_RED-0067-fv.jpg</td>\n",
       "      <td>7</td>\n",
       "      <td>train</td>\n",
       "    </tr>\n",
       "    <tr>\n",
       "      <th>2</th>\n",
       "      <td>ESP_013049_0950_RED-0067-brt.jpg</td>\n",
       "      <td>7</td>\n",
       "      <td>train</td>\n",
       "    </tr>\n",
       "    <tr>\n",
       "      <th>3</th>\n",
       "      <td>ESP_013049_0950_RED-0067-r90.jpg</td>\n",
       "      <td>7</td>\n",
       "      <td>train</td>\n",
       "    </tr>\n",
       "    <tr>\n",
       "      <th>4</th>\n",
       "      <td>ESP_013049_0950_RED-0067-r180.jpg</td>\n",
       "      <td>7</td>\n",
       "      <td>train</td>\n",
       "    </tr>\n",
       "    <tr>\n",
       "      <th>...</th>\n",
       "      <td>...</td>\n",
       "      <td>...</td>\n",
       "      <td>...</td>\n",
       "    </tr>\n",
       "    <tr>\n",
       "      <th>67805</th>\n",
       "      <td>ESP_018707_2205_RED-0041.jpg</td>\n",
       "      <td>0</td>\n",
       "      <td>test</td>\n",
       "    </tr>\n",
       "    <tr>\n",
       "      <th>67806</th>\n",
       "      <td>ESP_018707_2205_RED-0062.jpg</td>\n",
       "      <td>0</td>\n",
       "      <td>test</td>\n",
       "    </tr>\n",
       "    <tr>\n",
       "      <th>67807</th>\n",
       "      <td>ESP_018707_2205_RED-0105.jpg</td>\n",
       "      <td>0</td>\n",
       "      <td>test</td>\n",
       "    </tr>\n",
       "    <tr>\n",
       "      <th>67808</th>\n",
       "      <td>ESP_018707_2205_RED-0058.jpg</td>\n",
       "      <td>0</td>\n",
       "      <td>test</td>\n",
       "    </tr>\n",
       "    <tr>\n",
       "      <th>67809</th>\n",
       "      <td>ESP_018707_2205_RED-0051.jpg</td>\n",
       "      <td>0</td>\n",
       "      <td>test</td>\n",
       "    </tr>\n",
       "  </tbody>\n",
       "</table>\n",
       "<p>64947 rows × 3 columns</p>\n",
       "</div>"
      ],
      "text/plain": [
       "                                    name class  split\n",
       "0           ESP_013049_0950_RED-0067.jpg     7  train\n",
       "1        ESP_013049_0950_RED-0067-fv.jpg     7  train\n",
       "2       ESP_013049_0950_RED-0067-brt.jpg     7  train\n",
       "3       ESP_013049_0950_RED-0067-r90.jpg     7  train\n",
       "4      ESP_013049_0950_RED-0067-r180.jpg     7  train\n",
       "...                                  ...   ...    ...\n",
       "67805       ESP_018707_2205_RED-0041.jpg     0   test\n",
       "67806       ESP_018707_2205_RED-0062.jpg     0   test\n",
       "67807       ESP_018707_2205_RED-0105.jpg     0   test\n",
       "67808       ESP_018707_2205_RED-0058.jpg     0   test\n",
       "67809       ESP_018707_2205_RED-0051.jpg     0   test\n",
       "\n",
       "[64947 rows x 3 columns]"
      ]
     },
     "execution_count": 28,
     "metadata": {},
     "output_type": "execute_result"
    }
   ],
   "source": [
    "labels_df = labels_df.drop_duplicates()\n",
    "labels_df"
   ]
  },
  {
   "cell_type": "markdown",
   "metadata": {},
   "source": [
    "We use a labels csv file to get the file names, classes and a relevant split."
   ]
  },
  {
   "cell_type": "code",
   "execution_count": 29,
   "metadata": {},
   "outputs": [
    {
     "name": "stdout",
     "output_type": "stream",
     "text": [
      "Found 48979 validated image filenames belonging to 8 classes.\n",
      "Found 14175 validated image filenames belonging to 8 classes.\n"
     ]
    }
   ],
   "source": [
    "train_df = labels_df[labels_df['split'] == 'train']\n",
    "val_df = labels_df[labels_df['split'] == 'val']\n",
    "test_df = labels_df[labels_df['split'] == 'test']\n",
    "\n",
    "datagen = tf.keras.preprocessing.image.ImageDataGenerator(rescale=1.0/255.0)\n",
    "train_gen = datagen.flow_from_dataframe(\n",
    "    dataframe=train_df,\n",
    "    directory=IMAGES_PATH,\n",
    "    x_col=\"name\",\n",
    "    y_col=\"class\",\n",
    "    target_size=IMAGE_SHAPE,\n",
    "    batch_size=BATCH_SIZE,\n",
    "    class_mode=\"categorical\",\n",
    "    seed=RANDOM_STATE,\n",
    "    has_ext=True,\n",
    "    shuffle=True,\n",
    "    color_mode=\"grayscale\",\n",
    "    stratify=True\n",
    ")\n",
    "\n",
    "\n",
    "val_gen = datagen.flow_from_dataframe(\n",
    "    dataframe=val_df,\n",
    "    directory=IMAGES_PATH,\n",
    "    x_col=\"name\",\n",
    "    y_col=\"class\",\n",
    "    target_size=IMAGE_SHAPE,\n",
    "    batch_size=BATCH_SIZE,\n",
    "    class_mode=\"categorical\",\n",
    "    seed=RANDOM_STATE,\n",
    "    has_ext=True,\n",
    "    color_mode=\"grayscale\",\n",
    ")"
   ]
  },
  {
   "cell_type": "markdown",
   "metadata": {},
   "source": [
    "This code utilises the ImageDataGenerator to rescale the pixels for each image and we collect all of the images according to their file names and relevant split. We use a separate generator as the validation split has already been applied for us."
   ]
  },
  {
   "cell_type": "markdown",
   "metadata": {},
   "source": [
    "## Preliminary EDA"
   ]
  },
  {
   "cell_type": "code",
   "execution_count": 30,
   "metadata": {},
   "outputs": [
    {
     "data": {
      "text/plain": [
       "{0: 'other',\n",
       " 1: 'crater',\n",
       " 2: 'dark dune',\n",
       " 3: 'slope streak',\n",
       " 4: 'bright dune',\n",
       " 5: 'impact ejecta',\n",
       " 6: 'swiss cheese',\n",
       " 7: 'spider'}"
      ]
     },
     "execution_count": 30,
     "metadata": {},
     "output_type": "execute_result"
    }
   ],
   "source": [
    "class_map = pd.read_csv(BASE_PATH + \"classmap.csv\", header=None, index_col=0) \\\n",
    "            .squeeze(\"columns\") \\\n",
    "            .to_dict()\n",
    "class_map"
   ]
  },
  {
   "cell_type": "markdown",
   "metadata": {},
   "source": [
    "This class map describes how encoded classes correspond to their original string values."
   ]
  },
  {
   "cell_type": "code",
   "execution_count": 31,
   "metadata": {},
   "outputs": [
    {
     "data": {
      "text/plain": [
       "<Axes: xlabel='class', ylabel='count'>"
      ]
     },
     "execution_count": 31,
     "metadata": {},
     "output_type": "execute_result"
    },
    {
     "data": {
      "image/png": "[encoded data removed]",
      "text/plain": [
       "<Figure size 640x480 with 1 Axes>"
      ]
     },
     "metadata": {},
     "output_type": "display_data"
    }
   ],
   "source": [
    "sns.countplot(x=labels_df['class'])"
   ]
  },
  {
   "cell_type": "markdown",
   "metadata": {},
   "source": [
    "Most of the images are in the \"other\" category as described by the dataset authors."
   ]
  },
  {
   "cell_type": "code",
   "execution_count": 32,
   "metadata": {},
   "outputs": [
    {
     "data": {
      "text/plain": [
       "0    52722\n",
       "1     5024\n",
       "6     1834\n",
       "4     1654\n",
       "3     1575\n",
       "7      896\n",
       "2      766\n",
       "5      476\n",
       "Name: class, dtype: Int64"
      ]
     },
     "execution_count": 32,
     "metadata": {},
     "output_type": "execute_result"
    }
   ],
   "source": [
    "labels_df['class'].value_counts()"
   ]
  },
  {
   "cell_type": "code",
   "execution_count": 33,
   "metadata": {},
   "outputs": [
    {
     "name": "stdout",
     "output_type": "stream",
     "text": [
      "<class 'pandas.core.frame.DataFrame'>\n",
      "Int64Index: 64947 entries, 0 to 67809\n",
      "Data columns (total 3 columns):\n",
      " #   Column  Non-Null Count  Dtype \n",
      "---  ------  --------------  ----- \n",
      " 0   name    64947 non-null  object\n",
      " 1   class   64947 non-null  string\n",
      " 2   split   64947 non-null  object\n",
      "dtypes: object(2), string(1)\n",
      "memory usage: 2.0+ MB\n"
     ]
    }
   ],
   "source": [
    "labels_df.info()"
   ]
  },
  {
   "cell_type": "code",
   "execution_count": 34,
   "metadata": {},
   "outputs": [
    {
     "data": {
      "text/html": [
       "<div>\n",
       "<style scoped>\n",
       "    .dataframe tbody tr th:only-of-type {\n",
       "        vertical-align: middle;\n",
       "    }\n",
       "\n",
       "    .dataframe tbody tr th {\n",
       "        vertical-align: top;\n",
       "    }\n",
       "\n",
       "    .dataframe thead th {\n",
       "        text-align: right;\n",
       "    }\n",
       "</style>\n",
       "<table border=\"1\" class=\"dataframe\">\n",
       "  <thead>\n",
       "    <tr style=\"text-align: right;\">\n",
       "      <th></th>\n",
       "      <th>name</th>\n",
       "      <th>class</th>\n",
       "      <th>split</th>\n",
       "    </tr>\n",
       "  </thead>\n",
       "  <tbody>\n",
       "    <tr>\n",
       "      <th>0</th>\n",
       "      <td>ESP_013049_0950_RED-0067.jpg</td>\n",
       "      <td>7</td>\n",
       "      <td>train</td>\n",
       "    </tr>\n",
       "    <tr>\n",
       "      <th>7</th>\n",
       "      <td>ESP_019697_2020_RED-0024.jpg</td>\n",
       "      <td>1</td>\n",
       "      <td>train</td>\n",
       "    </tr>\n",
       "    <tr>\n",
       "      <th>14</th>\n",
       "      <td>ESP_015962_1695_RED-0016.jpg</td>\n",
       "      <td>1</td>\n",
       "      <td>train</td>\n",
       "    </tr>\n",
       "    <tr>\n",
       "      <th>21</th>\n",
       "      <td>ESP_013049_0950_RED-0118.jpg</td>\n",
       "      <td>7</td>\n",
       "      <td>train</td>\n",
       "    </tr>\n",
       "    <tr>\n",
       "      <th>28</th>\n",
       "      <td>ESP_015962_1695_RED-0017.jpg</td>\n",
       "      <td>1</td>\n",
       "      <td>train</td>\n",
       "    </tr>\n",
       "    <tr>\n",
       "      <th>...</th>\n",
       "      <td>...</td>\n",
       "      <td>...</td>\n",
       "      <td>...</td>\n",
       "    </tr>\n",
       "    <tr>\n",
       "      <th>67805</th>\n",
       "      <td>ESP_018707_2205_RED-0041.jpg</td>\n",
       "      <td>0</td>\n",
       "      <td>test</td>\n",
       "    </tr>\n",
       "    <tr>\n",
       "      <th>67806</th>\n",
       "      <td>ESP_018707_2205_RED-0062.jpg</td>\n",
       "      <td>0</td>\n",
       "      <td>test</td>\n",
       "    </tr>\n",
       "    <tr>\n",
       "      <th>67807</th>\n",
       "      <td>ESP_018707_2205_RED-0105.jpg</td>\n",
       "      <td>0</td>\n",
       "      <td>test</td>\n",
       "    </tr>\n",
       "    <tr>\n",
       "      <th>67808</th>\n",
       "      <td>ESP_018707_2205_RED-0058.jpg</td>\n",
       "      <td>0</td>\n",
       "      <td>test</td>\n",
       "    </tr>\n",
       "    <tr>\n",
       "      <th>67809</th>\n",
       "      <td>ESP_018707_2205_RED-0051.jpg</td>\n",
       "      <td>0</td>\n",
       "      <td>test</td>\n",
       "    </tr>\n",
       "  </tbody>\n",
       "</table>\n",
       "<p>10815 rows × 3 columns</p>\n",
       "</div>"
      ],
      "text/plain": [
       "                               name class  split\n",
       "0      ESP_013049_0950_RED-0067.jpg     7  train\n",
       "7      ESP_019697_2020_RED-0024.jpg     1  train\n",
       "14     ESP_015962_1695_RED-0016.jpg     1  train\n",
       "21     ESP_013049_0950_RED-0118.jpg     7  train\n",
       "28     ESP_015962_1695_RED-0017.jpg     1  train\n",
       "...                             ...   ...    ...\n",
       "67805  ESP_018707_2205_RED-0041.jpg     0   test\n",
       "67806  ESP_018707_2205_RED-0062.jpg     0   test\n",
       "67807  ESP_018707_2205_RED-0105.jpg     0   test\n",
       "67808  ESP_018707_2205_RED-0058.jpg     0   test\n",
       "67809  ESP_018707_2205_RED-0051.jpg     0   test\n",
       "\n",
       "[10815 rows x 3 columns]"
      ]
     },
     "execution_count": 34,
     "metadata": {},
     "output_type": "execute_result"
    }
   ],
   "source": [
    "aug_tags = [\"brt\", \"fv\", \"r90\", \"r180\", \"r270\", \"fh\"]\n",
    "\n",
    "aug_mask = '|'.join(aug_tags)\n",
    "\n",
    "original_landmarks_df = labels_df[~labels_df['name'].str.contains(aug_mask)]\n",
    "original_landmarks_df"
   ]
  },
  {
   "cell_type": "markdown",
   "metadata": {},
   "source": [
    "I am not entirely sure why the original dataset description said 10,433 landmarks instead of 10,815 landmarks but this seems to be about right."
   ]
  },
  {
   "cell_type": "markdown",
   "metadata": {},
   "source": [
    "## Model building"
   ]
  },
  {
   "cell_type": "code",
   "execution_count": 35,
   "metadata": {},
   "outputs": [],
   "source": [
    "model = keras.Sequential([\n",
    "    layers.Conv2D(16, kernel_size=(3,3), activation='relu', input_shape=(227,227,1)),\n",
    "    layers.Conv2D(16, kernel_size=(3,3), activation='relu'),\n",
    "    layers.MaxPool2D(2,2),\n",
    "    \n",
    "    layers.Flatten(),\n",
    "    layers.Dense(32, activation='relu'),\n",
    "    layers.Dropout(0.25),\n",
    "    \n",
    "    layers.Dense(len(class_map), activation='softmax'),\n",
    "])\n",
    "\n",
    "optimizer = keras.optimizers.Adam(epsilon=0.01)\n",
    "model.compile(\n",
    "    optimizer=optimizer,\n",
    "    loss='categorical_crossentropy',\n",
    "    metrics=['accuracy'],\n",
    ")"
   ]
  },
  {
   "cell_type": "code",
   "execution_count": 36,
   "metadata": {},
   "outputs": [
    {
     "data": {
      "image/png": "[encoded data removed]",
      "text/plain": [
       "<PIL.Image.Image image mode=RGBA size=660x256>"
      ]
     },
     "execution_count": 36,
     "metadata": {},
     "output_type": "execute_result"
    }
   ],
   "source": [
    "visualkeras.layered_view(model, scale_xy=1,legend=True, draw_volume=False, spacing=20)"
   ]
  },
  {
   "cell_type": "markdown",
   "metadata": {},
   "source": [
    "We create a CNN using two convolutional layers with a filter size of 32 where they take in an input_shape of (227,227). We then flatten the inputs to be fed into two dense layers and we finally have a softmax output layer. I use an Adam optimizer as that is the conventional optimizer and I use accuracy + categorical crossentropy as my metrics."
   ]
  },
  {
   "cell_type": "code",
   "execution_count": 37,
   "metadata": {},
   "outputs": [
    {
     "name": "stdout",
     "output_type": "stream",
     "text": [
      "Epoch 1/5\n",
      "1531/1531 [==============================] - 56s 36ms/step - loss: 0.8214 - accuracy: 0.8153 - val_loss: 0.8549 - val_accuracy: 0.7916\n",
      "Epoch 2/5\n",
      "1531/1531 [==============================] - 54s 35ms/step - loss: 0.7299 - accuracy: 0.8172 - val_loss: 0.8179 - val_accuracy: 0.7916\n",
      "Epoch 3/5\n",
      "1531/1531 [==============================] - 54s 35ms/step - loss: 0.6777 - accuracy: 0.8197 - val_loss: 0.8007 - val_accuracy: 0.7994\n",
      "Epoch 4/5\n",
      "1531/1531 [==============================] - 54s 35ms/step - loss: 0.6364 - accuracy: 0.8279 - val_loss: 0.7831 - val_accuracy: 0.8015\n",
      "Epoch 5/5\n",
      "1531/1531 [==============================] - 55s 36ms/step - loss: 0.5823 - accuracy: 0.8379 - val_loss: 0.7596 - val_accuracy: 0.8018\n"
     ]
    }
   ],
   "source": [
    "early_stopping_cb = keras.callbacks.EarlyStopping(monitor='val_accuracy', patience=2)\n",
    "history = model.fit(train_gen, validation_data=val_gen, epochs=5, callbacks=[early_stopping_cb])"
   ]
  },
  {
   "cell_type": "markdown",
   "metadata": {},
   "source": [
    "To save on training time, I have used an early stopping callback function that monitors the validation accuracy to see if accuracy doesn't improve over time."
   ]
  },
  {
   "cell_type": "code",
   "execution_count": 41,
   "metadata": {},
   "outputs": [
    {
     "data": {
      "text/plain": [
       "<Axes: >"
      ]
     },
     "execution_count": 41,
     "metadata": {},
     "output_type": "execute_result"
    },
    {
     "data": {
      "image/png": "[encoded data removed]",
      "text/plain": [
       "<Figure size 640x480 with 1 Axes>"
      ]
     },
     "metadata": {},
     "output_type": "display_data"
    },
    {
     "data": {
      "image/png": "[encoded data removed]",
      "text/plain": [
       "<Figure size 640x480 with 1 Axes>"
      ]
     },
     "metadata": {},
     "output_type": "display_data"
    }
   ],
   "source": [
    "history_df = pd.DataFrame(history.history)\n",
    "history_df.loc[:, ['loss', 'val_loss']].plot()\n",
    "history_df.loc[:, ['accuracy', 'val_accuracy']].plot()"
   ]
  },
  {
   "cell_type": "markdown",
   "metadata": {},
   "source": [
    "Whilst the training accuracy improves, the validation accuracy isn't improving at the same rate which implies overfitting"
   ]
  },
  {
   "cell_type": "code",
   "execution_count": 42,
   "metadata": {},
   "outputs": [
    {
     "name": "stdout",
     "output_type": "stream",
     "text": [
      "Found 1793 validated image filenames belonging to 8 classes.\n",
      "57/57 [==============================] - 1s 17ms/step - loss: 0.6712 - accuracy: 0.8321\n",
      "Loss:  0.6712139844894409\n",
      "Accuracy:  0.8321249485015869\n"
     ]
    }
   ],
   "source": [
    "test_datagen = tf.keras.preprocessing.image.ImageDataGenerator(rescale=1.0/255.0)\n",
    "test_gen = test_datagen.flow_from_dataframe(\n",
    "    dataframe=test_df,\n",
    "    directory=IMAGES_PATH,\n",
    "    x_col=\"name\",\n",
    "    y_col=\"class\",\n",
    "    target_size=IMAGE_SHAPE,\n",
    "    batch_size=BATCH_SIZE,\n",
    "    class_mode=\"categorical\",\n",
    "    seed=RANDOM_STATE,\n",
    "    has_ext=True,\n",
    "    shuffle=True,\n",
    "    color_mode=\"grayscale\",\n",
    "    stratify=True\n",
    ")\n",
    "\n",
    "loss, accuracy = model.evaluate(test_gen, batch_size=BATCH_SIZE)\n",
    "print(\"Loss: \", loss)\n",
    "print(\"Accuracy: \", accuracy)"
   ]
  },
  {
   "cell_type": "markdown",
   "metadata": {},
   "source": [
    "According to the results from the test dataframe, the accuracy is 82.6%. However, we will later see that the F1 score is 74% which is a more reliable metric to use as it accounts for an unbalanced dataset"
   ]
  },
  {
   "cell_type": "code",
   "execution_count": 43,
   "metadata": {},
   "outputs": [
    {
     "name": "stdout",
     "output_type": "stream",
     "text": [
      "57/57 [==============================] - 1s 17ms/step\n",
      "F1 Score:  0.74\n"
     ]
    },
    {
     "data": {
      "image/png": "[encoded data removed]",
      "text/plain": [
       "<Figure size 1400x1000 with 2 Axes>"
      ]
     },
     "metadata": {},
     "output_type": "display_data"
    }
   ],
   "source": [
    "y_pred = model.predict(test_gen)\n",
    "y_labels = np.argmax(y_pred, axis=1)\n",
    "\n",
    "y_true_labels = test_gen.classes\n",
    "\n",
    "f1 = f1_score(y_true_labels, y_labels, average='weighted')\n",
    "\n",
    "fig, ax = plt.subplots(figsize=(14,10))\n",
    "\n",
    "cm = confusion_matrix(y_true_labels, y_labels)\n",
    "disp = ConfusionMatrixDisplay(confusion_matrix=cm, display_labels=list(class_map.values()))\n",
    "print(\"F1 Score: \", round(f1, 2))\n",
    "disp.plot(ax=ax)\n",
    "plt.show()"
   ]
  },
  {
   "cell_type": "markdown",
   "metadata": {},
   "source": [
    "Since this is an unbalanced dataset, it is unsurprising that most of the classifications end up being \"other\"."
   ]
  },
  {
   "cell_type": "code",
   "execution_count": 44,
   "metadata": {},
   "outputs": [],
   "source": [
    "model.save(\"./mars_classifier.keras\")"
   ]
  },
  {
   "cell_type": "code",
   "execution_count": null,
   "metadata": {},
   "outputs": [],
   "source": []
  }
 ],
 "metadata": {
  "kernelspec": {
   "display_name": "Python 3 (ipykernel)",
   "language": "python",
   "name": "python3"
  },
  "language_info": {
   "codemirror_mode": {
    "name": "ipython",
    "version": 3
   },
   "file_extension": ".py",
   "mimetype": "text/x-python",
   "name": "python",
   "nbconvert_exporter": "python",
   "pygments_lexer": "ipython3",
   "version": "3.11.4"
  }
 },
 "nbformat": 4,
 "nbformat_minor": 2
}
