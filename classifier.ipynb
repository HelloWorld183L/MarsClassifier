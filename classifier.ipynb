{
 "cells": [
  {
   "cell_type": "code",
   "execution_count": 1,
   "metadata": {},
   "outputs": [
    {
     "name": "stderr",
     "output_type": "stream",
     "text": [
      "2023-07-26 13:32:49.494053: I tensorflow/core/platform/cpu_feature_guard.cc:182] This TensorFlow binary is optimized to use available CPU instructions in performance-critical operations.\n",
      "To enable the following instructions: AVX2 FMA, in other operations, rebuild TensorFlow with the appropriate compiler flags.\n",
      "2023-07-26 13:32:50.144031: W tensorflow/compiler/tf2tensorrt/utils/py_utils.cc:38] TF-TRT Warning: Could not find TensorRT\n"
     ]
    },
    {
     "name": "stdout",
     "output_type": "stream",
     "text": [
      "WARNING:tensorflow:Mixed precision compatibility check (mixed_float16): WARNING\n",
      "Your GPU may run slowly with dtype policy mixed_float16 because it does not have compute capability of at least 7.0. Your GPU:\n",
      "  NVIDIA GeForce GTX 1070, compute capability 6.1\n",
      "See https://developer.nvidia.com/cuda-gpus for a list of GPUs and their compute capabilities.\n",
      "If you will use compatible GPU(s) not attached to this host, e.g. by running a multi-worker model, you can ignore this warning. This message will only be logged once\n"
     ]
    },
    {
     "name": "stderr",
     "output_type": "stream",
     "text": [
      "2023-07-26 13:32:50.789171: I tensorflow/compiler/xla/stream_executor/cuda/cuda_gpu_executor.cc:995] successful NUMA node read from SysFS had negative value (-1), but there must be at least one NUMA node, so returning NUMA node zero. See more at https://github.com/torvalds/linux/blob/v6.0/Documentation/ABI/testing/sysfs-bus-pci#L344-L355\n",
      "2023-07-26 13:32:50.820716: I tensorflow/compiler/xla/stream_executor/cuda/cuda_gpu_executor.cc:995] successful NUMA node read from SysFS had negative value (-1), but there must be at least one NUMA node, so returning NUMA node zero. See more at https://github.com/torvalds/linux/blob/v6.0/Documentation/ABI/testing/sysfs-bus-pci#L344-L355\n",
      "2023-07-26 13:32:50.820878: I tensorflow/compiler/xla/stream_executor/cuda/cuda_gpu_executor.cc:995] successful NUMA node read from SysFS had negative value (-1), but there must be at least one NUMA node, so returning NUMA node zero. See more at https://github.com/torvalds/linux/blob/v6.0/Documentation/ABI/testing/sysfs-bus-pci#L344-L355\n",
      "2023-07-26 13:32:50.821128: I tensorflow/compiler/xla/stream_executor/cuda/cuda_gpu_executor.cc:995] successful NUMA node read from SysFS had negative value (-1), but there must be at least one NUMA node, so returning NUMA node zero. See more at https://github.com/torvalds/linux/blob/v6.0/Documentation/ABI/testing/sysfs-bus-pci#L344-L355\n"
     ]
    }
   ],
   "source": [
    "import numpy as np\n",
    "import pandas as pd\n",
    "import matplotlib.pyplot as plt\n",
    "import seaborn as sns\n",
    "from tensorflow import keras\n",
    "from tensorflow.keras import layers, mixed_precision as mp\n",
    "import os\n",
    "from skimage import io\n",
    "from sklearn.model_selection import train_test_split\n",
    "import tensorflow as tf\n",
    "import visualkeras\n",
    "\n",
    "SEED = 42\n",
    "TEST_PROP = 0.2\n",
    "IMAGE_SHAPE = (227, 227)\n",
    "BASE_PATH = \"hirise-map-proj-v3_2/\"\n",
    "IMAGES_PATH = BASE_PATH + \"map-proj-v3_2/\"\n",
    "BATCH_SIZE = 16\n",
    "\n",
    "mp.set_global_policy('mixed_float16')"
   ]
  },
  {
   "cell_type": "code",
   "execution_count": 2,
   "metadata": {},
   "outputs": [
    {
     "data": {
      "text/plain": [
       "[PhysicalDevice(name='/physical_device:GPU:0', device_type='GPU')]"
      ]
     },
     "execution_count": 2,
     "metadata": {},
     "output_type": "execute_result"
    }
   ],
   "source": [
    "devices = tf.config.list_physical_devices('GPU')\n",
    "if len(devices) == 0: print(\"Please install the latest TensorFlow GPU release.\")\n",
    "devices"
   ]
  },
  {
   "cell_type": "code",
   "execution_count": 3,
   "metadata": {},
   "outputs": [
    {
     "name": "stdout",
     "output_type": "stream",
     "text": [
      "Wed Jul 26 13:32:50 2023       \r\n",
      "+---------------------------------------------------------------------------------------+\r\n",
      "| NVIDIA-SMI 535.54.03              Driver Version: 535.54.03    CUDA Version: 12.2     |\r\n",
      "|-----------------------------------------+----------------------+----------------------+\r\n",
      "| GPU  Name                 Persistence-M | Bus-Id        Disp.A | Volatile Uncorr. ECC |\r\n",
      "| Fan  Temp   Perf          Pwr:Usage/Cap |         Memory-Usage | GPU-Util  Compute M. |\r\n",
      "|                                         |                      |               MIG M. |\r\n",
      "|=========================================+======================+======================|\r\n",
      "|   0  NVIDIA GeForce GTX 1070        Off | 00000000:01:00.0  On |                  N/A |\r\n",
      "|  8%   55C    P2              33W / 185W |    640MiB /  8192MiB |      6%      Default |\r\n",
      "|                                         |                      |                  N/A |\r\n",
      "+-----------------------------------------+----------------------+----------------------+\r\n",
      "                                                                                         \r\n",
      "+---------------------------------------------------------------------------------------+\r\n",
      "| Processes:                                                                            |\r\n",
      "|  GPU   GI   CI        PID   Type   Process name                            GPU Memory |\r\n",
      "|        ID   ID                                                             Usage      |\r\n",
      "|=======================================================================================|\r\n",
      "|    0   N/A  N/A       685      G   /usr/lib/Xorg                               331MiB |\r\n",
      "|    0   N/A  N/A      1296      G   xfwm4                                         3MiB |\r\n",
      "|    0   N/A  N/A      1763      G   ...62144 --disable-features=ChromeLabs      192MiB |\r\n",
      "|    0   N/A  N/A      2298      G   alacritty                                     9MiB |\r\n",
      "|    0   N/A  N/A      4934      G   ...sion,SpareRendererForSitePerProcess       33MiB |\r\n",
      "|    0   N/A  N/A      7714      G   ...ures=SpareRendererForSitePerProcess       21MiB |\r\n",
      "+---------------------------------------------------------------------------------------+\r\n"
     ]
    }
   ],
   "source": [
    "!nvidia-smi"
   ]
  },
  {
   "cell_type": "markdown",
   "metadata": {},
   "source": [
    "## Dataset creation"
   ]
  },
  {
   "cell_type": "code",
   "execution_count": 4,
   "metadata": {},
   "outputs": [
    {
     "data": {
      "text/html": [
       "<div>\n",
       "<style scoped>\n",
       "    .dataframe tbody tr th:only-of-type {\n",
       "        vertical-align: middle;\n",
       "    }\n",
       "\n",
       "    .dataframe tbody tr th {\n",
       "        vertical-align: top;\n",
       "    }\n",
       "\n",
       "    .dataframe thead th {\n",
       "        text-align: right;\n",
       "    }\n",
       "</style>\n",
       "<table border=\"1\" class=\"dataframe\">\n",
       "  <thead>\n",
       "    <tr style=\"text-align: right;\">\n",
       "      <th></th>\n",
       "      <th>name</th>\n",
       "      <th>class</th>\n",
       "      <th>split</th>\n",
       "    </tr>\n",
       "  </thead>\n",
       "  <tbody>\n",
       "    <tr>\n",
       "      <th>0</th>\n",
       "      <td>ESP_013049_0950_RED-0067.jpg</td>\n",
       "      <td>7</td>\n",
       "      <td>train</td>\n",
       "    </tr>\n",
       "    <tr>\n",
       "      <th>1</th>\n",
       "      <td>ESP_013049_0950_RED-0067-fv.jpg</td>\n",
       "      <td>7</td>\n",
       "      <td>train</td>\n",
       "    </tr>\n",
       "    <tr>\n",
       "      <th>2</th>\n",
       "      <td>ESP_013049_0950_RED-0067-brt.jpg</td>\n",
       "      <td>7</td>\n",
       "      <td>train</td>\n",
       "    </tr>\n",
       "    <tr>\n",
       "      <th>3</th>\n",
       "      <td>ESP_013049_0950_RED-0067-r90.jpg</td>\n",
       "      <td>7</td>\n",
       "      <td>train</td>\n",
       "    </tr>\n",
       "    <tr>\n",
       "      <th>4</th>\n",
       "      <td>ESP_013049_0950_RED-0067-r180.jpg</td>\n",
       "      <td>7</td>\n",
       "      <td>train</td>\n",
       "    </tr>\n",
       "    <tr>\n",
       "      <th>...</th>\n",
       "      <td>...</td>\n",
       "      <td>...</td>\n",
       "      <td>...</td>\n",
       "    </tr>\n",
       "    <tr>\n",
       "      <th>67805</th>\n",
       "      <td>ESP_018707_2205_RED-0041.jpg</td>\n",
       "      <td>0</td>\n",
       "      <td>test</td>\n",
       "    </tr>\n",
       "    <tr>\n",
       "      <th>67806</th>\n",
       "      <td>ESP_018707_2205_RED-0062.jpg</td>\n",
       "      <td>0</td>\n",
       "      <td>test</td>\n",
       "    </tr>\n",
       "    <tr>\n",
       "      <th>67807</th>\n",
       "      <td>ESP_018707_2205_RED-0105.jpg</td>\n",
       "      <td>0</td>\n",
       "      <td>test</td>\n",
       "    </tr>\n",
       "    <tr>\n",
       "      <th>67808</th>\n",
       "      <td>ESP_018707_2205_RED-0058.jpg</td>\n",
       "      <td>0</td>\n",
       "      <td>test</td>\n",
       "    </tr>\n",
       "    <tr>\n",
       "      <th>67809</th>\n",
       "      <td>ESP_018707_2205_RED-0051.jpg</td>\n",
       "      <td>0</td>\n",
       "      <td>test</td>\n",
       "    </tr>\n",
       "  </tbody>\n",
       "</table>\n",
       "<p>67810 rows × 3 columns</p>\n",
       "</div>"
      ],
      "text/plain": [
       "                                    name class  split\n",
       "0           ESP_013049_0950_RED-0067.jpg     7  train\n",
       "1        ESP_013049_0950_RED-0067-fv.jpg     7  train\n",
       "2       ESP_013049_0950_RED-0067-brt.jpg     7  train\n",
       "3       ESP_013049_0950_RED-0067-r90.jpg     7  train\n",
       "4      ESP_013049_0950_RED-0067-r180.jpg     7  train\n",
       "...                                  ...   ...    ...\n",
       "67805       ESP_018707_2205_RED-0041.jpg     0   test\n",
       "67806       ESP_018707_2205_RED-0062.jpg     0   test\n",
       "67807       ESP_018707_2205_RED-0105.jpg     0   test\n",
       "67808       ESP_018707_2205_RED-0058.jpg     0   test\n",
       "67809       ESP_018707_2205_RED-0051.jpg     0   test\n",
       "\n",
       "[67810 rows x 3 columns]"
      ]
     },
     "execution_count": 4,
     "metadata": {},
     "output_type": "execute_result"
    }
   ],
   "source": [
    "labels_df = pd.read_csv(BASE_PATH + \"labels-map-proj_v3_2_train_val_test.csv\", sep=\" \")\n",
    "labels_df['class'] = labels_df['class'].astype('string')\n",
    "labels_df"
   ]
  },
  {
   "cell_type": "code",
   "execution_count": 34,
   "metadata": {},
   "outputs": [
    {
     "name": "stdout",
     "output_type": "stream",
     "text": [
      "Found 40847 non-validated image filenames belonging to 8 classes.\n",
      "Found 2991 non-validated image filenames belonging to 8 classes.\n"
     ]
    }
   ],
   "source": [
    "train_df = labels_df[labels_df['split'] == 'train']\n",
    "val_df = labels_df[labels_df['split'] == 'val']\n",
    "\n",
    "train_datagen = tf.keras.preprocessing.image.ImageDataGenerator(rescale=1.0/255.0, validation_split=TEST_PROP)\n",
    "train_gen = train_datagen.flow_from_dataframe(\n",
    "    dataframe=train_df,\n",
    "    directory=IMAGES_PATH,\n",
    "    x_col=\"name\",\n",
    "    y_col=\"class\",\n",
    "    target_size=IMAGE_SHAPE,\n",
    "    batch_size=BATCH_SIZE,\n",
    "    class_mode=\"categorical\",\n",
    "    subset=\"training\",\n",
    "    validate_filenames=False,\n",
    "    stratify=True\n",
    ")\n",
    "\n",
    "val_gen = train_datagen.flow_from_dataframe(\n",
    "    dataframe=val_df,\n",
    "    directory=IMAGES_PATH,\n",
    "    x_col=\"name\",\n",
    "    y_col=\"class\",\n",
    "    target_size=IMAGE_SHAPE,\n",
    "    batch_size=BATCH_SIZE,\n",
    "    class_mode=\"categorical\",\n",
    "    subset=\"validation\",\n",
    "    validate_filenames=False\n",
    ")"
   ]
  },
  {
   "cell_type": "code",
   "execution_count": 35,
   "metadata": {},
   "outputs": [
    {
     "data": {
      "text/plain": [
       "{0: 'other',\n",
       " 1: 'crater',\n",
       " 2: 'dark dune',\n",
       " 3: 'slope streak',\n",
       " 4: 'bright dune',\n",
       " 5: 'impact ejecta',\n",
       " 6: 'swiss cheese',\n",
       " 7: 'spider'}"
      ]
     },
     "execution_count": 35,
     "metadata": {},
     "output_type": "execute_result"
    }
   ],
   "source": [
    "class_map = pd.read_csv(BASE_PATH + \"classmap.csv\", header=None, index_col=0) \\\n",
    "            .squeeze(\"columns\") \\\n",
    "            .to_dict()\n",
    "class_map"
   ]
  },
  {
   "cell_type": "markdown",
   "metadata": {},
   "source": [
    "## Preliminary EDA"
   ]
  },
  {
   "cell_type": "code",
   "execution_count": 36,
   "metadata": {},
   "outputs": [
    {
     "data": {
      "text/plain": [
       "<keras.src.preprocessing.image.DataFrameIterator at 0x7f6c5da800d0>"
      ]
     },
     "execution_count": 36,
     "metadata": {},
     "output_type": "execute_result"
    }
   ],
   "source": [
    "train_gen"
   ]
  },
  {
   "cell_type": "code",
   "execution_count": 42,
   "metadata": {},
   "outputs": [
    {
     "data": {
      "text/plain": [
       "<Axes: xlabel='class', ylabel='count'>"
      ]
     },
     "execution_count": 42,
     "metadata": {},
     "output_type": "execute_result"
    },
    {
     "data": {
      "image/png": "[encoded data removed]",
      "text/plain": [
       "<Figure size 640x480 with 1 Axes>"
      ]
     },
     "metadata": {},
     "output_type": "display_data"
    }
   ],
   "source": [
    "sns.countplot(x=labels_df['class'])"
   ]
  },
  {
   "cell_type": "markdown",
   "metadata": {},
   "source": [
    "Most of the images are in the \"other\" category and the \"crater\" category."
   ]
  },
  {
   "cell_type": "code",
   "execution_count": 43,
   "metadata": {},
   "outputs": [
    {
     "data": {
      "text/plain": [
       "0    52722\n",
       "1     5857\n",
       "6     2772\n",
       "4     1654\n",
       "3     1603\n",
       "7     1568\n",
       "2      857\n",
       "5      777\n",
       "Name: class, dtype: Int64"
      ]
     },
     "execution_count": 43,
     "metadata": {},
     "output_type": "execute_result"
    }
   ],
   "source": [
    "labels_df['class'].value_counts()"
   ]
  },
  {
   "cell_type": "code",
   "execution_count": 44,
   "metadata": {},
   "outputs": [
    {
     "name": "stdout",
     "output_type": "stream",
     "text": [
      "<class 'pandas.core.frame.DataFrame'>\n",
      "RangeIndex: 67810 entries, 0 to 67809\n",
      "Data columns (total 3 columns):\n",
      " #   Column  Non-Null Count  Dtype \n",
      "---  ------  --------------  ----- \n",
      " 0   name    67810 non-null  object\n",
      " 1   class   67810 non-null  string\n",
      " 2   split   67810 non-null  object\n",
      "dtypes: object(2), string(1)\n",
      "memory usage: 1.6+ MB\n"
     ]
    }
   ],
   "source": [
    "labels_df.info()"
   ]
  },
  {
   "cell_type": "markdown",
   "metadata": {},
   "source": [
    "## Model building"
   ]
  },
  {
   "cell_type": "code",
   "execution_count": 48,
   "metadata": {},
   "outputs": [],
   "source": [
    "model = keras.Sequential([\n",
    "    layers.Conv2D(30, kernel_size=(3,3), activation='relu', input_shape=(227,227,1)),\n",
    "    layers.Conv2D(30, kernel_size=(3,3), activation='relu'),\n",
    "    layers.MaxPool2D(2,2),\n",
    "    layers.Dropout(0.26),\n",
    "    \n",
    "    layers.Flatten(),\n",
    "    layers.Dense(128, activation='relu'),\n",
    "    layers.Dropout(0.26),\n",
    "    \n",
    "    layers.Dense(128, activation='relu'),\n",
    "    layers.Dropout(0.52),\n",
    "    \n",
    "    layers.Dense(len(class_map), activation='softmax'),\n",
    "])\n",
    "\n",
    "optimizer = keras.optimizers.Adam(epsilon=0.01)\n",
    "model.compile(\n",
    "    optimizer=optimizer,\n",
    "    loss='categorical_crossentropy',\n",
    "    metrics=['accuracy']\n",
    ")"
   ]
  },
  {
   "cell_type": "code",
   "execution_count": 49,
   "metadata": {},
   "outputs": [
    {
     "data": {
      "image/png": "[encoded data removed]",
      "text/plain": [
       "<PIL.Image.Image image mode=RGBA size=780x256>"
      ]
     },
     "execution_count": 49,
     "metadata": {},
     "output_type": "execute_result"
    }
   ],
   "source": [
    "visualkeras.layered_view(model, scale_xy=1,legend=True, draw_volume=False, spacing=20)"
   ]
  },
  {
   "cell_type": "code",
   "execution_count": 50,
   "metadata": {},
   "outputs": [
    {
     "name": "stdout",
     "output_type": "stream",
     "text": [
      "Epoch 1/12\n"
     ]
    },
    {
     "name": "stderr",
     "output_type": "stream",
     "text": [
      "2023-07-26 15:15:19.488891: E tensorflow/core/grappler/optimizers/meta_optimizer.cc:954] layout failed: INVALID_ARGUMENT: Size of values 0 does not match size of permutation 4 @ fanin shape insequential_7/dropout_25/dropout/SelectV2-2-TransposeNHWCToNCHW-LayoutOptimizer\n"
     ]
    },
    {
     "name": "stdout",
     "output_type": "stream",
     "text": [
      "2553/2553 [==============================] - 148s 57ms/step - loss: 0.5896 - accuracy: 0.8790 - val_loss: 2.5878 - val_accuracy: 0.3815\n",
      "Epoch 2/12\n",
      "2553/2553 [==============================] - 144s 56ms/step - loss: 0.5134 - accuracy: 0.8803 - val_loss: 2.7812 - val_accuracy: 0.3815\n",
      "Epoch 3/12\n",
      "2553/2553 [==============================] - 145s 57ms/step - loss: 0.4831 - accuracy: 0.8808 - val_loss: 2.8584 - val_accuracy: 0.3878\n",
      "Epoch 4/12\n",
      "2553/2553 [==============================] - 142s 56ms/step - loss: 0.4589 - accuracy: 0.8827 - val_loss: 2.7799 - val_accuracy: 0.4269\n",
      "Epoch 5/12\n",
      "2553/2553 [==============================] - 139s 54ms/step - loss: 0.4373 - accuracy: 0.8861 - val_loss: 2.5660 - val_accuracy: 0.4112\n",
      "Epoch 6/12\n",
      "2553/2553 [==============================] - 138s 54ms/step - loss: 0.4139 - accuracy: 0.8899 - val_loss: 2.4932 - val_accuracy: 0.4249\n",
      "Epoch 7/12\n",
      "2553/2553 [==============================] - 138s 54ms/step - loss: 0.3833 - accuracy: 0.8937 - val_loss: 3.0681 - val_accuracy: 0.4259\n",
      "Epoch 8/12\n",
      "2553/2553 [==============================] - 141s 55ms/step - loss: 0.3470 - accuracy: 0.9014 - val_loss: 3.3670 - val_accuracy: 0.4353\n",
      "Epoch 9/12\n",
      "2553/2553 [==============================] - 142s 56ms/step - loss: 0.3108 - accuracy: 0.9105 - val_loss: 3.4354 - val_accuracy: 0.4173\n",
      "Epoch 10/12\n",
      "2553/2553 [==============================] - 144s 56ms/step - loss: 0.2713 - accuracy: 0.9201 - val_loss: 3.5941 - val_accuracy: 0.4326\n",
      "Epoch 11/12\n",
      "2553/2553 [==============================] - 142s 56ms/step - loss: 0.2396 - accuracy: 0.9283 - val_loss: 3.9047 - val_accuracy: 0.4293\n",
      "Epoch 12/12\n",
      "2553/2553 [==============================] - 141s 55ms/step - loss: 0.2116 - accuracy: 0.9351 - val_loss: 4.0552 - val_accuracy: 0.4356\n"
     ]
    }
   ],
   "source": [
    "history = model.fit(train_gen, validation_data=val_gen, epochs=12)"
   ]
  },
  {
   "cell_type": "code",
   "execution_count": 51,
   "metadata": {},
   "outputs": [
    {
     "data": {
      "text/plain": [
       "<Axes: >"
      ]
     },
     "execution_count": 51,
     "metadata": {},
     "output_type": "execute_result"
    },
    {
     "data": {
      "image/png": "[encoded data removed]",
      "text/plain": [
       "<Figure size 640x480 with 1 Axes>"
      ]
     },
     "metadata": {},
     "output_type": "display_data"
    },
    {
     "data": {
      "image/png": "[encoded data removed]",
      "text/plain": [
       "<Figure size 640x480 with 1 Axes>"
      ]
     },
     "metadata": {},
     "output_type": "display_data"
    }
   ],
   "source": [
    "history_df = pd.DataFrame(history.history)\n",
    "history_df.loc[:, ['loss', 'val_loss']].plot()\n",
    "history_df.loc[:, ['accuracy', 'val_accuracy']].plot()"
   ]
  },
  {
   "cell_type": "code",
   "execution_count": 52,
   "metadata": {},
   "outputs": [
    {
     "name": "stdout",
     "output_type": "stream",
     "text": [
      "187/187 [==============================] - 3s 15ms/step - loss: 4.0551 - accuracy: 0.4356\n",
      "Loss:  4.0550923347473145\n",
      "Accuracy:  0.43564024567604065\n"
     ]
    }
   ],
   "source": [
    "loss, accuracy = model.evaluate(val_gen, batch_size=BATCH_SIZE)\n",
    "print(\"Loss: \", loss)\n",
    "print(\"Accuracy: \", accuracy)"
   ]
  },
  {
   "cell_type": "code",
   "execution_count": 53,
   "metadata": {},
   "outputs": [
    {
     "name": "stderr",
     "output_type": "stream",
     "text": [
      "/home/leonh/.conda/envs/Mars/lib/python3.11/site-packages/keras/src/engine/training.py:3000: UserWarning: You are saving your model as an HDF5 file via `model.save()`. This file format is considered legacy. We recommend using instead the native Keras format, e.g. `model.save('my_model.keras')`.\n",
      "  saving_api.save_model(\n"
     ]
    }
   ],
   "source": [
    "model.save(\"./mars_classifier.h5\")"
   ]
  },
  {
   "cell_type": "code",
   "execution_count": null,
   "metadata": {},
   "outputs": [],
   "source": []
  }
 ],
 "metadata": {
  "kernelspec": {
   "display_name": "Python 3 (ipykernel)",
   "language": "python",
   "name": "python3"
  },
  "language_info": {
   "codemirror_mode": {
    "name": "ipython",
    "version": 3
   },
   "file_extension": ".py",
   "mimetype": "text/x-python",
   "name": "python",
   "nbconvert_exporter": "python",
   "pygments_lexer": "ipython3",
   "version": "3.11.4"
  }
 },
 "nbformat": 4,
 "nbformat_minor": 2
}
